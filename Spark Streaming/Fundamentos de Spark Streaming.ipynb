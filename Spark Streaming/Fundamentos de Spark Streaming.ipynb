{
 "cells": [
  {
   "cell_type": "markdown",
   "id": "17a9da98-53c5-41f3-870e-6003d422edbd",
   "metadata": {},
   "source": [
    "### Fundamentos de Spark Streaming\n",
    "Imaginemos que queremos procesar un conjunto de datos en streaming que nos llegan en formato JSON. Queremos hacer un recuento del número de eventos por tipo de acción"
   ]
  },
  {
   "cell_type": "code",
   "execution_count": 1,
   "id": "d1b17ad1-7e8b-4691-a70c-6a7db15d7514",
   "metadata": {},
   "outputs": [],
   "source": [
    "import findspark\n",
    "findspark.init()"
   ]
  },
  {
   "cell_type": "code",
   "execution_count": null,
   "id": "9482dc5c-2f64-41f7-9a9d-e8fb8f1739f2",
   "metadata": {},
   "outputs": [],
   "source": [
    "from pyspark.sql.functions import *\n",
    "streamingInputDF = (\n",
    "    spark\n",
    "        .readStream\n",
    "        .schema(jsonSchema)  # Set the schema of the JSON data\n",
    "        .option('maxFilesPerTrigger', 1) # Treat a sequence of files as a stream by picking one file at a time\n",
    "        .json(inputPath)\n",
    ")"
   ]
  },
  {
   "cell_type": "code",
   "execution_count": null,
   "id": "0b2c8e55-2a43-4e74-9029-a0c3b60d0961",
   "metadata": {},
   "outputs": [],
   "source": [
    "streamingCountsDF = (\n",
    "    streamingInputDF\n",
    "        .groupBy(\n",
    "            streamingInputDF.action,\n",
    "            window(streamingInputDF.time, '1 hour'))\n",
    "        .count()\n",
    ")"
   ]
  },
  {
   "cell_type": "code",
   "execution_count": null,
   "id": "a6fd064d-93e9-4e61-97a3-eba405344e7a",
   "metadata": {},
   "outputs": [],
   "source": [
    "# Is this DF actually a streaming DF?\n",
    "streamingCountsDF.isStreaming"
   ]
  },
  {
   "cell_type": "markdown",
   "id": "16b94cb3-56d8-4429-81b5-dffa714cdd15",
   "metadata": {},
   "source": [
    "streamingCountsDF es un DataFrame en streaming. Podemos comenzar a aplicar el cálculo definiendo el output de los resultados. En nuestro caso, queremos consultar los recuentos por lo que confugraremos el conjunto completo de recuentos de 1 hora para que esté en una tabla en memoria."
   ]
  },
  {
   "cell_type": "code",
   "execution_count": null,
   "id": "6264c34f-6354-4bed-af83-99bd2bbc00d0",
   "metadata": {},
   "outputs": [],
   "source": [
    "query = (\n",
    "    streamingCountDF\n",
    "            .writeStream\n",
    "            .format('memory')  # memory = store in-memory-table\n",
    "            .queryName('counts') # counts = name of the in-memory table\n",
    "            .outputMode('complete') # complete = all the counts should be in the table\n",
    "            .start()\n",
    ")"
   ]
  },
  {
   "cell_type": "code",
   "execution_count": null,
   "id": "a25912d0-3411-42df-91b0-f1452b596180",
   "metadata": {},
   "outputs": [],
   "source": []
  }
 ],
 "metadata": {
  "kernelspec": {
   "display_name": "Python 3 (ipykernel)",
   "language": "python",
   "name": "python3"
  },
  "language_info": {
   "codemirror_mode": {
    "name": "ipython",
    "version": 3
   },
   "file_extension": ".py",
   "mimetype": "text/x-python",
   "name": "python",
   "nbconvert_exporter": "python",
   "pygments_lexer": "ipython3",
   "version": "3.9.7"
  }
 },
 "nbformat": 4,
 "nbformat_minor": 5
}
