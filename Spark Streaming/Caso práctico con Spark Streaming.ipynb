{
 "cells": [
  {
   "cell_type": "markdown",
   "id": "af382822-d542-4132-ae4c-76e275d7fdab",
   "metadata": {},
   "source": [
    "### Caso Spark Streaming\n",
    "Se utilizan los datos de Kaggle de fraud detection. Queremos contar el número de transacciones que le llegan a un destinatario (nameDest) en streaming"
   ]
  },
  {
   "cell_type": "code",
   "execution_count": 1,
   "id": "4382cef9-e9ff-4da5-a2e2-58dd3d62c15f",
   "metadata": {},
   "outputs": [],
   "source": [
    "# Importación de los datos\n",
    "import findspark\n",
    "findspark.init()"
   ]
  },
  {
   "cell_type": "code",
   "execution_count": 2,
   "id": "27437927-2108-4a55-a110-545768343a90",
   "metadata": {},
   "outputs": [],
   "source": [
    "#%load_ext nb_black\n",
    "from pyspark.sql import SparkSession\n",
    "import pyspark.sql.functions as F\n",
    "import pyspark.sql.types as T\n",
    "\n",
    "spark = SparkSession.builder.getOrCreate()"
   ]
  },
  {
   "cell_type": "code",
   "execution_count": 4,
   "id": "3518d979-fa6a-427c-8309-5ed0da1b37fc",
   "metadata": {},
   "outputs": [],
   "source": [
    "df = spark.read.csv('../data/fraud_detection.csv',\n",
    "                   header= True,\n",
    "                   inferSchema=True)"
   ]
  },
  {
   "cell_type": "code",
   "execution_count": 5,
   "id": "a5cbc7c7-8ed1-4e75-b18f-3eac66443246",
   "metadata": {},
   "outputs": [
    {
     "data": {
      "text/plain": [
       "['step',\n",
       " 'type',\n",
       " 'amount',\n",
       " 'nameOrig',\n",
       " 'oldbalanceOrg',\n",
       " 'newbalanceOrig',\n",
       " 'nameDest',\n",
       " 'oldbalanceDest',\n",
       " 'newbalanceDest',\n",
       " 'isFraud',\n",
       " 'isFlaggedFraud']"
      ]
     },
     "execution_count": 5,
     "metadata": {},
     "output_type": "execute_result"
    }
   ],
   "source": [
    "df.columns"
   ]
  },
  {
   "cell_type": "code",
   "execution_count": 6,
   "id": "c4b51656-6a9d-46cc-b95e-fb831c17b362",
   "metadata": {},
   "outputs": [],
   "source": [
    "df = df.drop('isFraud', 'isFlaggedFraud')"
   ]
  },
  {
   "cell_type": "code",
   "execution_count": 7,
   "id": "e8e34371-b402-4225-bff5-8c70e45ca4a9",
   "metadata": {},
   "outputs": [
    {
     "name": "stdout",
     "output_type": "stream",
     "text": [
      "+----+--------+-------+-----------+-------------+--------------+-----------+--------------+--------------+\n",
      "|step|    type| amount|   nameOrig|oldbalanceOrg|newbalanceOrig|   nameDest|oldbalanceDest|newbalanceDest|\n",
      "+----+--------+-------+-----------+-------------+--------------+-----------+--------------+--------------+\n",
      "|   1| PAYMENT|9839.64|C1231006815|     170136.0|     160296.36|M1979787155|           0.0|           0.0|\n",
      "|   1| PAYMENT|1864.28|C1666544295|      21249.0|      19384.72|M2044282225|           0.0|           0.0|\n",
      "|   1|TRANSFER|  181.0|C1305486145|        181.0|           0.0| C553264065|           0.0|           0.0|\n",
      "+----+--------+-------+-----------+-------------+--------------+-----------+--------------+--------------+\n",
      "only showing top 3 rows\n",
      "\n"
     ]
    }
   ],
   "source": [
    "df.show(3)"
   ]
  },
  {
   "cell_type": "markdown",
   "id": "ab836e50-0b67-4c8e-b916-c070fe88f022",
   "metadata": {},
   "source": [
    "#### Obtención secuencial de los datos\n",
    "\n",
    "Step mapea una unidad de tiempo, en este caso, 1 step es 1 hora de tiempo. En un caso real tendríamos un proceso que se ejecuta cada hora y obtendría todas las transacciones cada hora"
   ]
  },
  {
   "cell_type": "code",
   "execution_count": 8,
   "id": "b58553a1-bd53-42ba-99a6-4a444a346693",
   "metadata": {},
   "outputs": [
    {
     "name": "stdout",
     "output_type": "stream",
     "text": [
      "+----+-----+\n",
      "|step|count|\n",
      "+----+-----+\n",
      "| 148|   12|\n",
      "| 463|   10|\n",
      "| 471| 2620|\n",
      "+----+-----+\n",
      "only showing top 3 rows\n",
      "\n"
     ]
    }
   ],
   "source": [
    "df.groupBy('step').count().show(3)"
   ]
  },
  {
   "cell_type": "markdown",
   "id": "2ca624e4-0f7a-4a92-bc9c-483c232f3ca6",
   "metadata": {},
   "source": [
    "Por lo tanto, podemos guardar el resultado de ese trabajo filtrando en cada step y guardandolo en un archivo separado"
   ]
  },
  {
   "cell_type": "code",
   "execution_count": null,
   "id": "5b43e658-89bb-4a49-a69c-89acb92dd05d",
   "metadata": {},
   "outputs": [],
   "source": [
    "%%time\n",
    "steps = df.select('step').distinct().collect()\n",
    "\n",
    "for step in steps[:]:\n",
    "    _df = df.where(f\"step = {step[0]}\")\n",
    "    #by adding coalesce(1) we save the datframe to one file\n",
    "    _df.coalesce(1).write.mode('append').option('header', 'true').csv('data/fraud')"
   ]
  },
  {
   "cell_type": "code",
   "execution_count": 10,
   "id": "8c4bfbe2-2b35-4b77-9bd3-a1129f7e4429",
   "metadata": {},
   "outputs": [],
   "source": [
    "!cd data/fraud"
   ]
  },
  {
   "cell_type": "code",
   "execution_count": null,
   "id": "da111c43-36c8-4f2e-98bc-a34cf076740a",
   "metadata": {},
   "outputs": [],
   "source": [
    "part = spark.read.csv(\n",
    "    'data/fraud/part-00000-00ac3d12-8057-4aae-bbbb-5fe71c2813e2-c000.csv.crc',\n",
    "    header=True,\n",
    "    inferSchema=True\n",
    ")"
   ]
  },
  {
   "cell_type": "code",
   "execution_count": null,
   "id": "61e99f61-8a65-42b4-9526-95fcf982310b",
   "metadata": {},
   "outputs": [],
   "source": [
    "part.groupBy('step').count().show()"
   ]
  },
  {
   "cell_type": "markdown",
   "id": "48fff96b-b4c6-4e9e-b081-0c718a3f0876",
   "metadata": {},
   "source": [
    "#### Procesamiento en Streaming\n",
    "Creemos una versión de transmisión de esta entrada, leeremos cada archivo uno por uno como si fuera un proceso en streaming"
   ]
  },
  {
   "cell_type": "code",
   "execution_count": null,
   "id": "dc7c32fa-ddcc-4316-87ed-7e288ee82e69",
   "metadata": {},
   "outputs": [],
   "source": [
    "dataSchema = part.schema"
   ]
  },
  {
   "cell_type": "code",
   "execution_count": null,
   "id": "16cb5a0d-9f03-4a04-b283-ea952640a2d7",
   "metadata": {},
   "outputs": [],
   "source": [
    "dataSchema"
   ]
  },
  {
   "cell_type": "markdown",
   "id": "b00e79e2-86d8-4639-b093-f2aa29dbf6e8",
   "metadata": {},
   "source": [
    "**maxFilesTriggre** permite controlar la rapidez con la que Spark leerá todos los archivos de la carpeta. En este ejemplo, estamos limitando el flujo de la transmisión a un archivo por disparador"
   ]
  },
  {
   "cell_type": "code",
   "execution_count": null,
   "id": "cfe0a6c0-00bf-4313-b5f0-64bfe8b50976",
   "metadata": {},
   "outputs": [],
   "source": [
    "streaming = (\n",
    "    spark.readStream.schema(dataSchema)\n",
    "    .option('maxFilesPerTrigger', 1)\n",
    "    .csv('data/fraud/')\n",
    ")"
   ]
  },
  {
   "cell_type": "markdown",
   "id": "8c0fccea-f0b4-415b-9c46-451c6e368884",
   "metadata": {},
   "source": [
    "Establecemos una transformación. La columna nameDest es el ID del destinatario de la transacción."
   ]
  },
  {
   "cell_type": "code",
   "execution_count": null,
   "id": "7becf6e2-c606-4fa3-875f-4edc5a25071e",
   "metadata": {},
   "outputs": [],
   "source": [
    "dest_count = streaming.groupBy('nameDest').count().orderBy(F.desc('count'))"
   ]
  },
  {
   "cell_type": "markdown",
   "id": "a5a56a43-15db-4b2f-a568-da825f4f31cc",
   "metadata": {},
   "source": [
    "Ahora que tenemos nuestra transformación, necesitamos especificar un output de salida para los resultados.  Para este ejemplo, vamos a escribir los resultados en memoria.\n",
    "\n",
    "También necesitamos definir como Spark generará esos datos. En este ejemplo, usaremos el modo de salida completo (reescribiendo todos los datos junto con sus recuentos después de cada disparo) con .**outputMode('complete')**.\n",
    "\n",
    "En este ejemplo, no incluiremos **activityQuery.awaitTermination()** porque es necesario solo para evitar que el proceso del controlador finalice cuando la transmisión está activa. Entonces, para poder ejecutar esto localmente en un portátil, no lo incluiremos."
   ]
  },
  {
   "cell_type": "code",
   "execution_count": null,
   "id": "7562110b-2455-4f27-810b-7c2ad87ab2ae",
   "metadata": {},
   "outputs": [],
   "source": [
    "activityQuery = (\n",
    "    dest_count.writeStream.queryName('dest_counts')\n",
    "    .format('memory')\n",
    "    .outputMode('complete')\n",
    "    .start()\n",
    ")\n",
    "\n",
    "# Include this in production\n",
    "# activityQuery.awaitTermination()\n",
    "\n",
    "import time\n",
    "\n",
    "for x in range(50):\n",
    "    _df = spark.sql(\n",
    "        \"SELECT * FROM dest_counts WHERE nameDest != 'nameDest' AND count >= 2'\n",
    "    )\n",
    "    if _df.count() > 0:\n",
    "        _df.show(10)\n",
    "    time.sleep(0.5)"
   ]
  },
  {
   "cell_type": "markdown",
   "id": "a39b7c21-816e-4841-9086-ec61b9300a4c",
   "metadata": {},
   "source": [
    "Comprobar si la transmisión esta activa"
   ]
  },
  {
   "cell_type": "code",
   "execution_count": null,
   "id": "d77533d0-8985-40a7-9ab5-67bcc85ab8d1",
   "metadata": {},
   "outputs": [],
   "source": [
    "spark.streams.active[0].isActive"
   ]
  },
  {
   "cell_type": "code",
   "execution_count": null,
   "id": "2cb7e1a2-dd3d-43d0-8be6-8984aabcd264",
   "metadata": {},
   "outputs": [],
   "source": [
    "activityQuery.status"
   ]
  },
  {
   "cell_type": "markdown",
   "id": "03455d5d-623b-4cdd-8a6c-a04643f01f0d",
   "metadata": {},
   "source": [
    "Si queremos desactivar la transmisión, ejecutaremos activityQuery.stop() para reestablecer la consulta con fines de prueba"
   ]
  },
  {
   "cell_type": "code",
   "execution_count": null,
   "id": "97d7e71b-1cef-45e1-ad45-30e74644d5af",
   "metadata": {},
   "outputs": [],
   "source": [
    "activityQuery.stop()"
   ]
  },
  {
   "cell_type": "code",
   "execution_count": null,
   "id": "f0209a49-1466-47ba-9983-ce74c3015c1a",
   "metadata": {},
   "outputs": [],
   "source": []
  }
 ],
 "metadata": {
  "kernelspec": {
   "display_name": "Python 3 (ipykernel)",
   "language": "python",
   "name": "python3"
  },
  "language_info": {
   "codemirror_mode": {
    "name": "ipython",
    "version": 3
   },
   "file_extension": ".py",
   "mimetype": "text/x-python",
   "name": "python",
   "nbconvert_exporter": "python",
   "pygments_lexer": "ipython3",
   "version": "3.9.7"
  }
 },
 "nbformat": 4,
 "nbformat_minor": 5
}
