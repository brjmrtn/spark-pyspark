{
 "cells": [
  {
   "cell_type": "markdown",
   "id": "75720ba4-40de-4ca9-9839-644cf24dc9b1",
   "metadata": {},
   "source": [
    "Notebook con ejemplo Streaming de la documentación de Apache Spark"
   ]
  },
  {
   "cell_type": "code",
   "execution_count": null,
   "id": "127e97a8-122d-44c1-a096-af1f079669ac",
   "metadata": {},
   "outputs": [],
   "source": [
    "import findspark\n",
    "findspark.init()\n",
    "from pyspark.sql import SparkSession\n",
    "from pyspark.sql.functions import explode\n",
    "from pyspark.sql.functions import split\n",
    "\n",
    "spark = SparkSession \\\n",
    "        .builder\\\n",
    "        .appName('StructureNetworkwordCount')\\\n",
    "        .getOrCreate()"
   ]
  },
  {
   "cell_type": "code",
   "execution_count": null,
   "id": "93d7d43a-beaf-4a19-b35f-94e567ccd964",
   "metadata": {},
   "outputs": [],
   "source": [
    "# Create DataFrame representing the stream of input lines from connection to localhost:9999\n",
    "lines = spark \\\n",
    "        .readStream \\\n",
    "        .format('socket')\\\n",
    "        .option('host', 'localhost') \\\n",
    "        .option('port', 9999) \\\n",
    "        .load()\n",
    "\n",
    "# Split the lines into words\n",
    "words = lines.select(\n",
    "    explode(\n",
    "        split(lines.value, ' ')\n",
    "    ).alias('word')\n",
    ")\n",
    "\n",
    "# Generate running word count\n",
    "wordCounts = words.groupBy('word').count()"
   ]
  },
  {
   "cell_type": "code",
   "execution_count": null,
   "id": "7337e117-f01e-4bdf-97ba-5feeeb07b7a1",
   "metadata": {},
   "outputs": [],
   "source": [
    "# Start running the query that prints the running counts to the console\n",
    "query = wordCounts \\\n",
    "        .writeStream \\\n",
    "        .outputMode('complete') \\\n",
    "        .format('console') \\\n",
    "        .start()\n",
    "\n",
    "query.awaitTermination()"
   ]
  },
  {
   "cell_type": "code",
   "execution_count": null,
   "id": "056daa33-f6e6-41fb-b855-dc639d6b8853",
   "metadata": {},
   "outputs": [],
   "source": []
  }
 ],
 "metadata": {
  "kernelspec": {
   "display_name": "Python 3 (ipykernel)",
   "language": "python",
   "name": "python3"
  },
  "language_info": {
   "codemirror_mode": {
    "name": "ipython",
    "version": 3
   },
   "file_extension": ".py",
   "mimetype": "text/x-python",
   "name": "python",
   "nbconvert_exporter": "python",
   "pygments_lexer": "ipython3",
   "version": "3.9.7"
  }
 },
 "nbformat": 4,
 "nbformat_minor": 5
}
