{
 "cells": [
  {
   "cell_type": "markdown",
   "id": "a0cf9b94",
   "metadata": {},
   "source": [
    "### Apache Spark Koalas\n",
    "Este notebook contiene las funciones principales de Koalas, obtenidas de la documentacion oficial https://koalas.readthedocs.io/"
   ]
  },
  {
   "cell_type": "code",
   "execution_count": 4,
   "id": "4b05b133",
   "metadata": {},
   "outputs": [],
   "source": [
    "# !pip install plotly "
   ]
  },
  {
   "cell_type": "code",
   "execution_count": 2,
   "id": "1f7dc19c",
   "metadata": {},
   "outputs": [
    {
     "data": {
      "text/plain": [
       "'C:\\\\Users\\\\brjmr\\\\Anaconda3True\\\\python.exe'"
      ]
     },
     "execution_count": 2,
     "metadata": {},
     "output_type": "execute_result"
    }
   ],
   "source": [
    "import sys\n",
    "sys.executable"
   ]
  },
  {
   "cell_type": "code",
   "execution_count": 7,
   "id": "c4fb94f3",
   "metadata": {},
   "outputs": [
    {
     "name": "stdout",
     "output_type": "stream",
     "text": [
      "Collecting koalas\n",
      "  Downloading koalas-1.8.2-py3-none-any.whl (390 kB)\n",
      "Requirement already satisfied: numpy>=1.14 in c:\\users\\brjmr\\anaconda3true\\lib\\site-packages (from koalas) (1.20.3)\n",
      "Collecting pyarrow>=0.10\n",
      "  Downloading pyarrow-6.0.1-cp39-cp39-win_amd64.whl (15.5 MB)\n",
      "Requirement already satisfied: pandas>=0.23.2 in c:\\users\\brjmr\\anaconda3true\\lib\\site-packages (from koalas) (1.3.4)\n",
      "Requirement already satisfied: pytz>=2017.3 in c:\\users\\brjmr\\anaconda3true\\lib\\site-packages (from pandas>=0.23.2->koalas) (2021.3)\n",
      "Requirement already satisfied: python-dateutil>=2.7.3 in c:\\users\\brjmr\\anaconda3true\\lib\\site-packages (from pandas>=0.23.2->koalas) (2.8.2)\n",
      "Requirement already satisfied: six>=1.5 in c:\\users\\brjmr\\anaconda3true\\lib\\site-packages (from python-dateutil>=2.7.3->pandas>=0.23.2->koalas) (1.16.0)\n",
      "Installing collected packages: pyarrow, koalas\n",
      "Successfully installed koalas-1.8.2 pyarrow-6.0.1\n"
     ]
    }
   ],
   "source": [
    "!pip install koalas"
   ]
  },
  {
   "cell_type": "code",
   "execution_count": 9,
   "id": "62bb286b",
   "metadata": {},
   "outputs": [
    {
     "name": "stderr",
     "output_type": "stream",
     "text": [
      "WARNING:root:Found numpy version \"1.20.3\" installed with pyspark version \"3.0.3\". Some functions will not work well with this combination of numpy version \"1.20.3\" and pyspark version \"3.0.3\". Please try to upgrade pyspark version to 3.1 or above, or downgrade numpy version to below 1.20.\n",
      "WARNING:root:'PYARROW_IGNORE_TIMEZONE' environment variable was not set. It is required to set this environment variable to '1' in both driver and executor sides if you use pyarrow>=2.0.0. Koalas will set it for you but it does not work if there is a Spark context already launched.\n"
     ]
    }
   ],
   "source": [
    "import findspark\n",
    "findspark.init()\n",
    "\n",
    "import pandas as pd\n",
    "import pyspark\n",
    "\n",
    "import pandas as pd\n",
    "import numpy as np\n",
    "import databricks.koalas as ks\n",
    "from pyspark.sql import SparkSession"
   ]
  },
  {
   "cell_type": "markdown",
   "id": "770cfeac",
   "metadata": {},
   "source": [
    "### 1.- Creación de objetos\n",
    "\n",
    "Creando una serie de Koalas pasando una lista de valores, permitiendo que Koalas cree un indice entero predeterminado:"
   ]
  },
  {
   "cell_type": "code",
   "execution_count": null,
   "id": "5b9bae9a",
   "metadata": {},
   "outputs": [],
   "source": [
    "s = ks.Series([1, 3, 5, np.nan, 6, 8])"
   ]
  },
  {
   "cell_type": "code",
   "execution_count": null,
   "id": "03beb7a9",
   "metadata": {},
   "outputs": [],
   "source": []
  }
 ],
 "metadata": {
  "kernelspec": {
   "display_name": "Python 3 (ipykernel)",
   "language": "python",
   "name": "python3"
  },
  "language_info": {
   "codemirror_mode": {
    "name": "ipython",
    "version": 3
   },
   "file_extension": ".py",
   "mimetype": "text/x-python",
   "name": "python",
   "nbconvert_exporter": "python",
   "pygments_lexer": "ipython3",
   "version": "3.9.7"
  }
 },
 "nbformat": 4,
 "nbformat_minor": 5
}
