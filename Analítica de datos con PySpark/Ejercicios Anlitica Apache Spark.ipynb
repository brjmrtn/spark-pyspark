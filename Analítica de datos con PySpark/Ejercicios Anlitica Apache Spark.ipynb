{
 "cells": [
  {
   "cell_type": "markdown",
   "metadata": {},
   "source": [
    "En este ejercicio vas a tener que cargar el dataset de “data/stocks_price_final.csv”, con el esquema correcto de datos, y realizar los siguiente:\n",
    "\n",
    "* Eliminar o renombrar la variable market.cap\n",
    "\n",
    "* Filtrar los datos donde el valor de “open” es nulo y eliminar esas filas\n",
    "\n",
    "* Calcular el mínimo y máximo de data, open, close y adjusted\n",
    "\n",
    "* Convertir un DataFrame de Spark en un DataFrame de pandas\n",
    "\n",
    "* Calcular la media de las variables opne, close y adjusted por industria\n",
    "\n",
    "* Generar un gráfico de líneas donde se muestre la media de open por industria\n",
    "\n",
    "* Generar un heatmap con seaborn donde se muestre la correlación entre las medias de open, close y adjusted\n",
    "\n",
    "* Guardar en un archivo parquet una selección de datos"
   ]
  },
  {
   "cell_type": "code",
   "execution_count": 1,
   "metadata": {},
   "outputs": [],
   "source": [
    "import findspark\n",
    "findspark.init()\n",
    "import pyspark"
   ]
  },
  {
   "cell_type": "code",
   "execution_count": 2,
   "metadata": {},
   "outputs": [],
   "source": [
    "from pyspark.sql import functions as f\n",
    "import matplotlib.pyplot as plt\n",
    "\n",
    "%matplotlib inline"
   ]
  },
  {
   "cell_type": "code",
   "execution_count": 3,
   "metadata": {},
   "outputs": [],
   "source": [
    "from pyspark.sql import SparkSession\n",
    "\n",
    "spark = SparkSession.builder\\\n",
    "        .master('local[*]')\\\n",
    "        .appName('analitica_spark')\\\n",
    "        .getOrCreate()"
   ]
  },
  {
   "cell_type": "code",
   "execution_count": 4,
   "metadata": {},
   "outputs": [],
   "source": [
    "from pyspark.sql.types import *\n",
    "\n",
    "data_schema = [\n",
    "               StructField('_c0', IntegerType(), True),\n",
    "               StructField('symbol', StringType(), True),\n",
    "               StructField('data', DateType(), True),\n",
    "               StructField('open', DoubleType(), True),\n",
    "               StructField('high', DoubleType(), True),\n",
    "               StructField('low', DoubleType(), True),\n",
    "               StructField('close', DoubleType(), True),\n",
    "               StructField('volume', IntegerType(), True),\n",
    "               StructField('adjusted', DoubleType(), True),\n",
    "               StructField('market.cap', StringType(), True),\n",
    "               StructField('sector', StringType(), True),\n",
    "               StructField('industry', StringType(), True),\n",
    "               StructField('exchange', StringType(), True),\n",
    "            ]\n",
    "\n",
    "final_struc = StructType(fields=data_schema)"
   ]
  },
  {
   "cell_type": "code",
   "execution_count": 5,
   "metadata": {},
   "outputs": [],
   "source": [
    "data = spark.read.csv(\n",
    "        'C:/Users/brjmr/Desktop/cursos/data/stocks_price_final.csv',\n",
    "        sep= ',',\n",
    "        header = True,\n",
    "        schema = final_struc)"
   ]
  },
  {
   "cell_type": "code",
   "execution_count": 6,
   "metadata": {},
   "outputs": [],
   "source": [
    "data = data.withColumnRenamed('market.cap', 'market_cap')"
   ]
  },
  {
   "cell_type": "code",
   "execution_count": 16,
   "metadata": {},
   "outputs": [
    {
     "name": "stdout",
     "output_type": "stream",
     "text": [
      "+----+------+----------+----+----+----+-----+------+--------+----------+-------------+--------------------+--------+\n",
      "| _c0|symbol|      data|open|high| low|close|volume|adjusted|market_cap|       sector|            industry|exchange|\n",
      "+----+------+----------+----+----+----+-----+------+--------+----------+-------------+--------------------+--------+\n",
      "|4378|  KRKR|2020-05-11|null|null|null| null|  null|    null|  $130.48M|Miscellaneous|   Business Services|  NASDAQ|\n",
      "|5747|  NMTR|2020-01-23|null|null|null| null|  null|    null|   $54.96M|  Health Care|Major Pharmaceuti...|  NASDAQ|\n",
      "|5748|  NMTR|2020-01-24|null|null|null| null|  null|    null|   $54.96M|  Health Care|Major Pharmaceuti...|  NASDAQ|\n",
      "|5749|  NMTR|2020-01-27|null|null|null| null|  null|    null|   $54.96M|  Health Care|Major Pharmaceuti...|  NASDAQ|\n",
      "|5750|  NMTR|2020-01-28|null|null|null| null|  null|    null|   $54.96M|  Health Care|Major Pharmaceuti...|  NASDAQ|\n",
      "|5751|  NMTR|2020-01-29|null|null|null| null|  null|    null|   $54.96M|  Health Care|Major Pharmaceuti...|  NASDAQ|\n",
      "|5752|  NMTR|2020-01-30|null|null|null| null|  null|    null|   $54.96M|  Health Care|Major Pharmaceuti...|  NASDAQ|\n",
      "|5753|  NMTR|2020-01-31|null|null|null| null|  null|    null|   $54.96M|  Health Care|Major Pharmaceuti...|  NASDAQ|\n",
      "|5754|  NMTR|2020-02-03|null|null|null| null|  null|    null|   $54.96M|  Health Care|Major Pharmaceuti...|  NASDAQ|\n",
      "|5755|  NMTR|2020-02-04|null|null|null| null|  null|    null|   $54.96M|  Health Care|Major Pharmaceuti...|  NASDAQ|\n",
      "|5756|  NMTR|2020-02-05|null|null|null| null|  null|    null|   $54.96M|  Health Care|Major Pharmaceuti...|  NASDAQ|\n",
      "|5757|  NMTR|2020-02-06|null|null|null| null|  null|    null|   $54.96M|  Health Care|Major Pharmaceuti...|  NASDAQ|\n",
      "|5758|  NMTR|2020-02-07|null|null|null| null|  null|    null|   $54.96M|  Health Care|Major Pharmaceuti...|  NASDAQ|\n",
      "|5759|  NMTR|2020-02-10|null|null|null| null|  null|    null|   $54.96M|  Health Care|Major Pharmaceuti...|  NASDAQ|\n",
      "|5760|  NMTR|2020-02-11|null|null|null| null|  null|    null|   $54.96M|  Health Care|Major Pharmaceuti...|  NASDAQ|\n",
      "|5761|  NMTR|2020-02-12|null|null|null| null|  null|    null|   $54.96M|  Health Care|Major Pharmaceuti...|  NASDAQ|\n",
      "|5762|  NMTR|2020-02-13|null|null|null| null|  null|    null|   $54.96M|  Health Care|Major Pharmaceuti...|  NASDAQ|\n",
      "|5763|  NMTR|2020-02-14|null|null|null| null|  null|    null|   $54.96M|  Health Care|Major Pharmaceuti...|  NASDAQ|\n",
      "|5764|  NMTR|2020-02-18|null|null|null| null|  null|    null|   $54.96M|  Health Care|Major Pharmaceuti...|  NASDAQ|\n",
      "|5765|  NMTR|2020-02-19|null|null|null| null|  null|    null|   $54.96M|  Health Care|Major Pharmaceuti...|  NASDAQ|\n",
      "+----+------+----------+----+----+----+-----+------+--------+----------+-------------+--------------------+--------+\n",
      "only showing top 20 rows\n",
      "\n"
     ]
    }
   ],
   "source": [
    "data.filter('open is null').show()"
   ]
  },
  {
   "cell_type": "code",
   "execution_count": 17,
   "metadata": {},
   "outputs": [
    {
     "data": {
      "text/plain": [
       "DataFrame[_c0: int, symbol: string, data: date, open: double, high: double, low: double, close: double, volume: int, adjusted: double, market_cap: string, sector: string, industry: string, exchange: string]"
      ]
     },
     "execution_count": 17,
     "metadata": {},
     "output_type": "execute_result"
    }
   ],
   "source": [
    "data.na.drop()"
   ]
  },
  {
   "cell_type": "code",
   "execution_count": 18,
   "metadata": {},
   "outputs": [],
   "source": [
    "from pyspark.sql.functions import col, min, max, avg, lit\n",
    "\n",
    "data_transf = data.groupBy(\"sector\") \\\n",
    "    .agg(min(\"data\").alias(\"From\"), \n",
    "         max(\"data\").alias(\"To\"), \n",
    "         \n",
    "         min(\"open\").alias(\"Minimum Opening\"),\n",
    "         max(\"open\").alias(\"Maximum Opening\"), \n",
    "\n",
    "         min(\"close\").alias(\"Minimum Closing\"), \n",
    "         max(\"close\").alias(\"Maximum Closing\"),  \n",
    "\n",
    "         min(\"adjusted\").alias(\"Minimum Adjusted Closing\"), \n",
    "         max(\"adjusted\").alias(\"Maximum Adjusted Closing\"), \n",
    "\n",
    "      )"
   ]
  },
  {
   "cell_type": "code",
   "execution_count": 20,
   "metadata": {},
   "outputs": [
    {
     "data": {
      "text/html": [
       "<div>\n",
       "<style scoped>\n",
       "    .dataframe tbody tr th:only-of-type {\n",
       "        vertical-align: middle;\n",
       "    }\n",
       "\n",
       "    .dataframe tbody tr th {\n",
       "        vertical-align: top;\n",
       "    }\n",
       "\n",
       "    .dataframe thead th {\n",
       "        text-align: right;\n",
       "    }\n",
       "</style>\n",
       "<table border=\"1\" class=\"dataframe\">\n",
       "  <thead>\n",
       "    <tr style=\"text-align: right;\">\n",
       "      <th></th>\n",
       "      <th>sector</th>\n",
       "      <th>From</th>\n",
       "      <th>To</th>\n",
       "      <th>Minimum Opening</th>\n",
       "      <th>Maximum Opening</th>\n",
       "      <th>Minimum Closing</th>\n",
       "      <th>Maximum Closing</th>\n",
       "      <th>Minimum Adjusted Closing</th>\n",
       "      <th>Maximum Adjusted Closing</th>\n",
       "    </tr>\n",
       "  </thead>\n",
       "  <tbody>\n",
       "    <tr>\n",
       "      <td>0</td>\n",
       "      <td>Miscellaneous</td>\n",
       "      <td>2019-01-02</td>\n",
       "      <td>2020-07-22</td>\n",
       "      <td>0.147</td>\n",
       "      <td>1.059990e+03</td>\n",
       "      <td>0.1361</td>\n",
       "      <td>1.035830e+03</td>\n",
       "      <td>0.136100</td>\n",
       "      <td>1.035830e+03</td>\n",
       "    </tr>\n",
       "    <tr>\n",
       "      <td>1</td>\n",
       "      <td>Health Care</td>\n",
       "      <td>2019-01-02</td>\n",
       "      <td>2020-07-22</td>\n",
       "      <td>0.072</td>\n",
       "      <td>1.860000e+05</td>\n",
       "      <td>0.0710</td>\n",
       "      <td>1.870000e+05</td>\n",
       "      <td>0.071000</td>\n",
       "      <td>1.870000e+05</td>\n",
       "    </tr>\n",
       "    <tr>\n",
       "      <td>2</td>\n",
       "      <td>Public Utilities</td>\n",
       "      <td>2019-01-02</td>\n",
       "      <td>2020-07-22</td>\n",
       "      <td>0.331</td>\n",
       "      <td>2.800000e+02</td>\n",
       "      <td>0.3250</td>\n",
       "      <td>2.822200e+02</td>\n",
       "      <td>0.325000</td>\n",
       "      <td>2.806739e+02</td>\n",
       "    </tr>\n",
       "    <tr>\n",
       "      <td>3</td>\n",
       "      <td>Energy</td>\n",
       "      <td>2019-01-02</td>\n",
       "      <td>2020-07-22</td>\n",
       "      <td>0.100</td>\n",
       "      <td>9.050000e+02</td>\n",
       "      <td>0.0900</td>\n",
       "      <td>9.010400e+02</td>\n",
       "      <td>0.090000</td>\n",
       "      <td>8.790570e+02</td>\n",
       "    </tr>\n",
       "    <tr>\n",
       "      <td>4</td>\n",
       "      <td>Consumer Non-Durables</td>\n",
       "      <td>2019-01-02</td>\n",
       "      <td>2020-07-22</td>\n",
       "      <td>0.120</td>\n",
       "      <td>6.550000e+02</td>\n",
       "      <td>0.1200</td>\n",
       "      <td>6.641300e+02</td>\n",
       "      <td>0.120000</td>\n",
       "      <td>6.641300e+02</td>\n",
       "    </tr>\n",
       "    <tr>\n",
       "      <td>5</td>\n",
       "      <td>Finance</td>\n",
       "      <td>2019-01-02</td>\n",
       "      <td>2020-07-22</td>\n",
       "      <td>0.250</td>\n",
       "      <td>1.336930e+03</td>\n",
       "      <td>0.2700</td>\n",
       "      <td>1.341080e+03</td>\n",
       "      <td>0.270000</td>\n",
       "      <td>1.341080e+03</td>\n",
       "    </tr>\n",
       "    <tr>\n",
       "      <td>6</td>\n",
       "      <td>Basic Industries</td>\n",
       "      <td>2019-01-02</td>\n",
       "      <td>2020-07-22</td>\n",
       "      <td>0.230</td>\n",
       "      <td>1.601682e+08</td>\n",
       "      <td>0.2300</td>\n",
       "      <td>1.583766e+08</td>\n",
       "      <td>0.230000</td>\n",
       "      <td>1.572494e+08</td>\n",
       "    </tr>\n",
       "    <tr>\n",
       "      <td>7</td>\n",
       "      <td>Capital Goods</td>\n",
       "      <td>2019-01-02</td>\n",
       "      <td>2020-07-22</td>\n",
       "      <td>0.130</td>\n",
       "      <td>4.025000e+03</td>\n",
       "      <td>0.1200</td>\n",
       "      <td>4.037770e+03</td>\n",
       "      <td>-1.230099</td>\n",
       "      <td>4.037770e+03</td>\n",
       "    </tr>\n",
       "    <tr>\n",
       "      <td>8</td>\n",
       "      <td>Technology</td>\n",
       "      <td>2019-01-02</td>\n",
       "      <td>2020-07-22</td>\n",
       "      <td>0.140</td>\n",
       "      <td>2.704000e+03</td>\n",
       "      <td>0.1300</td>\n",
       "      <td>2.736000e+03</td>\n",
       "      <td>0.130000</td>\n",
       "      <td>2.736000e+03</td>\n",
       "    </tr>\n",
       "    <tr>\n",
       "      <td>9</td>\n",
       "      <td>Consumer Services</td>\n",
       "      <td>2019-01-02</td>\n",
       "      <td>2020-07-22</td>\n",
       "      <td>0.100</td>\n",
       "      <td>1.543750e+04</td>\n",
       "      <td>0.1340</td>\n",
       "      <td>1.984375e+04</td>\n",
       "      <td>0.134000</td>\n",
       "      <td>1.984375e+04</td>\n",
       "    </tr>\n",
       "    <tr>\n",
       "      <td>10</td>\n",
       "      <td>Consumer Durables</td>\n",
       "      <td>2019-01-02</td>\n",
       "      <td>2020-07-22</td>\n",
       "      <td>0.320</td>\n",
       "      <td>1.117188e+05</td>\n",
       "      <td>0.3100</td>\n",
       "      <td>1.187500e+05</td>\n",
       "      <td>0.310000</td>\n",
       "      <td>1.187500e+05</td>\n",
       "    </tr>\n",
       "    <tr>\n",
       "      <td>11</td>\n",
       "      <td>Transportation</td>\n",
       "      <td>2019-01-02</td>\n",
       "      <td>2020-07-22</td>\n",
       "      <td>0.080</td>\n",
       "      <td>2.744100e+02</td>\n",
       "      <td>0.0800</td>\n",
       "      <td>2.740400e+02</td>\n",
       "      <td>0.080000</td>\n",
       "      <td>2.740400e+02</td>\n",
       "    </tr>\n",
       "  </tbody>\n",
       "</table>\n",
       "</div>"
      ],
      "text/plain": [
       "                   sector        From          To  Minimum Opening  \\\n",
       "0           Miscellaneous  2019-01-02  2020-07-22            0.147   \n",
       "1             Health Care  2019-01-02  2020-07-22            0.072   \n",
       "2        Public Utilities  2019-01-02  2020-07-22            0.331   \n",
       "3                  Energy  2019-01-02  2020-07-22            0.100   \n",
       "4   Consumer Non-Durables  2019-01-02  2020-07-22            0.120   \n",
       "5                 Finance  2019-01-02  2020-07-22            0.250   \n",
       "6        Basic Industries  2019-01-02  2020-07-22            0.230   \n",
       "7           Capital Goods  2019-01-02  2020-07-22            0.130   \n",
       "8              Technology  2019-01-02  2020-07-22            0.140   \n",
       "9       Consumer Services  2019-01-02  2020-07-22            0.100   \n",
       "10      Consumer Durables  2019-01-02  2020-07-22            0.320   \n",
       "11         Transportation  2019-01-02  2020-07-22            0.080   \n",
       "\n",
       "    Maximum Opening  Minimum Closing  Maximum Closing  \\\n",
       "0      1.059990e+03           0.1361     1.035830e+03   \n",
       "1      1.860000e+05           0.0710     1.870000e+05   \n",
       "2      2.800000e+02           0.3250     2.822200e+02   \n",
       "3      9.050000e+02           0.0900     9.010400e+02   \n",
       "4      6.550000e+02           0.1200     6.641300e+02   \n",
       "5      1.336930e+03           0.2700     1.341080e+03   \n",
       "6      1.601682e+08           0.2300     1.583766e+08   \n",
       "7      4.025000e+03           0.1200     4.037770e+03   \n",
       "8      2.704000e+03           0.1300     2.736000e+03   \n",
       "9      1.543750e+04           0.1340     1.984375e+04   \n",
       "10     1.117188e+05           0.3100     1.187500e+05   \n",
       "11     2.744100e+02           0.0800     2.740400e+02   \n",
       "\n",
       "    Minimum Adjusted Closing  Maximum Adjusted Closing  \n",
       "0                   0.136100              1.035830e+03  \n",
       "1                   0.071000              1.870000e+05  \n",
       "2                   0.325000              2.806739e+02  \n",
       "3                   0.090000              8.790570e+02  \n",
       "4                   0.120000              6.641300e+02  \n",
       "5                   0.270000              1.341080e+03  \n",
       "6                   0.230000              1.572494e+08  \n",
       "7                  -1.230099              4.037770e+03  \n",
       "8                   0.130000              2.736000e+03  \n",
       "9                   0.134000              1.984375e+04  \n",
       "10                  0.310000              1.187500e+05  \n",
       "11                  0.080000              2.740400e+02  "
      ]
     },
     "execution_count": 20,
     "metadata": {},
     "output_type": "execute_result"
    }
   ],
   "source": [
    "data_transf.toPandas()"
   ]
  },
  {
   "cell_type": "code",
   "execution_count": 21,
   "metadata": {},
   "outputs": [
    {
     "data": {
      "text/html": [
       "<div>\n",
       "<style scoped>\n",
       "    .dataframe tbody tr th:only-of-type {\n",
       "        vertical-align: middle;\n",
       "    }\n",
       "\n",
       "    .dataframe tbody tr th {\n",
       "        vertical-align: top;\n",
       "    }\n",
       "\n",
       "    .dataframe thead th {\n",
       "        text-align: right;\n",
       "    }\n",
       "</style>\n",
       "<table border=\"1\" class=\"dataframe\">\n",
       "  <thead>\n",
       "    <tr style=\"text-align: right;\">\n",
       "      <th></th>\n",
       "      <th>industry</th>\n",
       "      <th>avg(open)</th>\n",
       "      <th>avg(close)</th>\n",
       "      <th>avg(adjusted)</th>\n",
       "    </tr>\n",
       "  </thead>\n",
       "  <tbody>\n",
       "    <tr>\n",
       "      <td>0</td>\n",
       "      <td>Finance/Investors Services</td>\n",
       "      <td>5.134402</td>\n",
       "      <td>5.136631</td>\n",
       "      <td>4.991354</td>\n",
       "    </tr>\n",
       "    <tr>\n",
       "      <td>1</td>\n",
       "      <td>Miscellaneous</td>\n",
       "      <td>16.385883</td>\n",
       "      <td>16.359879</td>\n",
       "      <td>16.148959</td>\n",
       "    </tr>\n",
       "    <tr>\n",
       "      <td>2</td>\n",
       "      <td>Investment Bankers/Brokers/Service</td>\n",
       "      <td>58.950581</td>\n",
       "      <td>58.983086</td>\n",
       "      <td>58.157837</td>\n",
       "    </tr>\n",
       "    <tr>\n",
       "      <td>3</td>\n",
       "      <td>Food Distributors</td>\n",
       "      <td>43.274509</td>\n",
       "      <td>43.273178</td>\n",
       "      <td>42.910476</td>\n",
       "    </tr>\n",
       "    <tr>\n",
       "      <td>4</td>\n",
       "      <td>Miscellaneous manufacturing industries</td>\n",
       "      <td>15.660586</td>\n",
       "      <td>15.650935</td>\n",
       "      <td>15.369819</td>\n",
       "    </tr>\n",
       "    <tr>\n",
       "      <td>...</td>\n",
       "      <td>...</td>\n",
       "      <td>...</td>\n",
       "      <td>...</td>\n",
       "      <td>...</td>\n",
       "    </tr>\n",
       "    <tr>\n",
       "      <td>130</td>\n",
       "      <td>Newspapers/Magazines</td>\n",
       "      <td>37.148455</td>\n",
       "      <td>37.200996</td>\n",
       "      <td>36.816791</td>\n",
       "    </tr>\n",
       "    <tr>\n",
       "      <td>131</td>\n",
       "      <td>Ordnance And Accessories</td>\n",
       "      <td>39.697790</td>\n",
       "      <td>39.702395</td>\n",
       "      <td>38.673986</td>\n",
       "    </tr>\n",
       "    <tr>\n",
       "      <td>132</td>\n",
       "      <td>Movies/Entertainment</td>\n",
       "      <td>19.157668</td>\n",
       "      <td>19.123131</td>\n",
       "      <td>18.897540</td>\n",
       "    </tr>\n",
       "    <tr>\n",
       "      <td>133</td>\n",
       "      <td>Electronics Distribution</td>\n",
       "      <td>6.428699</td>\n",
       "      <td>6.430408</td>\n",
       "      <td>6.377569</td>\n",
       "    </tr>\n",
       "    <tr>\n",
       "      <td>134</td>\n",
       "      <td>Shoe Manufacturing</td>\n",
       "      <td>46.105873</td>\n",
       "      <td>46.082477</td>\n",
       "      <td>45.815695</td>\n",
       "    </tr>\n",
       "  </tbody>\n",
       "</table>\n",
       "<p>135 rows × 4 columns</p>\n",
       "</div>"
      ],
      "text/plain": [
       "                                   industry  avg(open)  avg(close)  \\\n",
       "0                Finance/Investors Services   5.134402    5.136631   \n",
       "1                             Miscellaneous  16.385883   16.359879   \n",
       "2        Investment Bankers/Brokers/Service  58.950581   58.983086   \n",
       "3                         Food Distributors  43.274509   43.273178   \n",
       "4    Miscellaneous manufacturing industries  15.660586   15.650935   \n",
       "..                                      ...        ...         ...   \n",
       "130                    Newspapers/Magazines  37.148455   37.200996   \n",
       "131                Ordnance And Accessories  39.697790   39.702395   \n",
       "132                    Movies/Entertainment  19.157668   19.123131   \n",
       "133                Electronics Distribution   6.428699    6.430408   \n",
       "134                      Shoe Manufacturing  46.105873   46.082477   \n",
       "\n",
       "     avg(adjusted)  \n",
       "0         4.991354  \n",
       "1        16.148959  \n",
       "2        58.157837  \n",
       "3        42.910476  \n",
       "4        15.369819  \n",
       "..             ...  \n",
       "130      36.816791  \n",
       "131      38.673986  \n",
       "132      18.897540  \n",
       "133       6.377569  \n",
       "134      45.815695  \n",
       "\n",
       "[135 rows x 4 columns]"
      ]
     },
     "execution_count": 21,
     "metadata": {},
     "output_type": "execute_result"
    }
   ],
   "source": [
    "data_df = data.select(['industry', 'open', 'close', 'adjusted']).groupBy('industry').mean().toPandas()\n",
    "data_df"
   ]
  },
  {
   "cell_type": "code",
   "execution_count": 22,
   "metadata": {},
   "outputs": [
    {
     "data": {
      "text/plain": [
       "<matplotlib.axes._subplots.AxesSubplot at 0x1cbd4c3c848>"
      ]
     },
     "execution_count": 22,
     "metadata": {},
     "output_type": "execute_result"
    },
    {
     "data": {
      "image/png": "[encoded data removed]",
      "text/plain": [
       "<Figure size 432x288 with 1 Axes>"
      ]
     },
     "metadata": {
      "needs_background": "light"
     },
     "output_type": "display_data"
    }
   ],
   "source": [
    "data_df[['industry', 'avg(open)']].plot()"
   ]
  },
  {
   "cell_type": "code",
   "execution_count": 23,
   "metadata": {},
   "outputs": [
    {
     "data": {
      "text/plain": [
       "<matplotlib.axes._subplots.AxesSubplot at 0x1cbd96eb1c8>"
      ]
     },
     "execution_count": 23,
     "metadata": {},
     "output_type": "execute_result"
    },
    {
     "data": {
      "image/png": "[encoded data removed]",
      "text/plain": [
       "<Figure size 432x288 with 2 Axes>"
      ]
     },
     "metadata": {
      "needs_background": "light"
     },
     "output_type": "display_data"
    }
   ],
   "source": [
    "import seaborn as sb\n",
    "corr = data_df.corr()\n",
    "sb.heatmap(corr, cmap=\"Blues\", annot=True)"
   ]
  },
  {
   "cell_type": "code",
   "execution_count": 24,
   "metadata": {},
   "outputs": [
    {
     "ename": "AnalysisException",
     "evalue": "path file:/C:/Users/brjmr/Desktop/Cursos/PySpark/Analítica de datos con PySpark/dataset.parquet already exists.;",
     "output_type": "error",
     "traceback": [
      "\u001b[1;31m---------------------------------------------------------------------------\u001b[0m",
      "\u001b[1;31mAnalysisException\u001b[0m                         Traceback (most recent call last)",
      "\u001b[1;32m<ipython-input-24-3f1ff3064c39>\u001b[0m in \u001b[0;36m<module>\u001b[1;34m\u001b[0m\n\u001b[0;32m      1\u001b[0m \u001b[1;31m# Parquet\u001b[0m\u001b[1;33m\u001b[0m\u001b[1;33m\u001b[0m\u001b[1;33m\u001b[0m\u001b[0m\n\u001b[0;32m      2\u001b[0m \u001b[0mdata\u001b[0m\u001b[1;33m.\u001b[0m\u001b[0mselect\u001b[0m\u001b[1;33m(\u001b[0m\u001b[1;33m[\u001b[0m\u001b[1;34m'data'\u001b[0m\u001b[1;33m,\u001b[0m \u001b[1;34m'open'\u001b[0m\u001b[1;33m,\u001b[0m \u001b[1;34m'close'\u001b[0m\u001b[1;33m,\u001b[0m \u001b[1;34m'adjusted'\u001b[0m\u001b[1;33m]\u001b[0m\u001b[1;33m)\u001b[0m\u001b[0;31m\\\u001b[0m\u001b[1;33m\u001b[0m\u001b[1;33m\u001b[0m\u001b[0m\n\u001b[1;32m----> 3\u001b[1;33m     \u001b[1;33m.\u001b[0m\u001b[0mwrite\u001b[0m\u001b[1;33m.\u001b[0m\u001b[0msave\u001b[0m\u001b[1;33m(\u001b[0m\u001b[1;34m'dataset.parquet'\u001b[0m\u001b[1;33m,\u001b[0m \u001b[0mformat\u001b[0m\u001b[1;33m=\u001b[0m\u001b[1;34m'parquet'\u001b[0m\u001b[1;33m)\u001b[0m\u001b[1;33m\u001b[0m\u001b[1;33m\u001b[0m\u001b[0m\n\u001b[0m",
      "\u001b[1;32mC:\\spark\\python\\pyspark\\sql\\readwriter.py\u001b[0m in \u001b[0;36msave\u001b[1;34m(self, path, format, mode, partitionBy, **options)\u001b[0m\n\u001b[0;32m    828\u001b[0m             \u001b[0mself\u001b[0m\u001b[1;33m.\u001b[0m\u001b[0m_jwrite\u001b[0m\u001b[1;33m.\u001b[0m\u001b[0msave\u001b[0m\u001b[1;33m(\u001b[0m\u001b[1;33m)\u001b[0m\u001b[1;33m\u001b[0m\u001b[1;33m\u001b[0m\u001b[0m\n\u001b[0;32m    829\u001b[0m         \u001b[1;32melse\u001b[0m\u001b[1;33m:\u001b[0m\u001b[1;33m\u001b[0m\u001b[1;33m\u001b[0m\u001b[0m\n\u001b[1;32m--> 830\u001b[1;33m             \u001b[0mself\u001b[0m\u001b[1;33m.\u001b[0m\u001b[0m_jwrite\u001b[0m\u001b[1;33m.\u001b[0m\u001b[0msave\u001b[0m\u001b[1;33m(\u001b[0m\u001b[0mpath\u001b[0m\u001b[1;33m)\u001b[0m\u001b[1;33m\u001b[0m\u001b[1;33m\u001b[0m\u001b[0m\n\u001b[0m\u001b[0;32m    831\u001b[0m \u001b[1;33m\u001b[0m\u001b[0m\n\u001b[0;32m    832\u001b[0m     \u001b[1;33m@\u001b[0m\u001b[0msince\u001b[0m\u001b[1;33m(\u001b[0m\u001b[1;36m1.4\u001b[0m\u001b[1;33m)\u001b[0m\u001b[1;33m\u001b[0m\u001b[1;33m\u001b[0m\u001b[0m\n",
      "\u001b[1;32mC:\\spark\\python\\lib\\py4j-0.10.9-src.zip\\py4j\\java_gateway.py\u001b[0m in \u001b[0;36m__call__\u001b[1;34m(self, *args)\u001b[0m\n\u001b[0;32m   1303\u001b[0m         \u001b[0manswer\u001b[0m \u001b[1;33m=\u001b[0m \u001b[0mself\u001b[0m\u001b[1;33m.\u001b[0m\u001b[0mgateway_client\u001b[0m\u001b[1;33m.\u001b[0m\u001b[0msend_command\u001b[0m\u001b[1;33m(\u001b[0m\u001b[0mcommand\u001b[0m\u001b[1;33m)\u001b[0m\u001b[1;33m\u001b[0m\u001b[1;33m\u001b[0m\u001b[0m\n\u001b[0;32m   1304\u001b[0m         return_value = get_return_value(\n\u001b[1;32m-> 1305\u001b[1;33m             answer, self.gateway_client, self.target_id, self.name)\n\u001b[0m\u001b[0;32m   1306\u001b[0m \u001b[1;33m\u001b[0m\u001b[0m\n\u001b[0;32m   1307\u001b[0m         \u001b[1;32mfor\u001b[0m \u001b[0mtemp_arg\u001b[0m \u001b[1;32min\u001b[0m \u001b[0mtemp_args\u001b[0m\u001b[1;33m:\u001b[0m\u001b[1;33m\u001b[0m\u001b[1;33m\u001b[0m\u001b[0m\n",
      "\u001b[1;32mC:\\spark\\python\\pyspark\\sql\\utils.py\u001b[0m in \u001b[0;36mdeco\u001b[1;34m(*a, **kw)\u001b[0m\n\u001b[0;32m    132\u001b[0m                 \u001b[1;31m# Hide where the exception came from that shows a non-Pythonic\u001b[0m\u001b[1;33m\u001b[0m\u001b[1;33m\u001b[0m\u001b[1;33m\u001b[0m\u001b[0m\n\u001b[0;32m    133\u001b[0m                 \u001b[1;31m# JVM exception message.\u001b[0m\u001b[1;33m\u001b[0m\u001b[1;33m\u001b[0m\u001b[1;33m\u001b[0m\u001b[0m\n\u001b[1;32m--> 134\u001b[1;33m                 \u001b[0mraise_from\u001b[0m\u001b[1;33m(\u001b[0m\u001b[0mconverted\u001b[0m\u001b[1;33m)\u001b[0m\u001b[1;33m\u001b[0m\u001b[1;33m\u001b[0m\u001b[0m\n\u001b[0m\u001b[0;32m    135\u001b[0m             \u001b[1;32melse\u001b[0m\u001b[1;33m:\u001b[0m\u001b[1;33m\u001b[0m\u001b[1;33m\u001b[0m\u001b[0m\n\u001b[0;32m    136\u001b[0m                 \u001b[1;32mraise\u001b[0m\u001b[1;33m\u001b[0m\u001b[1;33m\u001b[0m\u001b[0m\n",
      "\u001b[1;32mC:\\spark\\python\\pyspark\\sql\\utils.py\u001b[0m in \u001b[0;36mraise_from\u001b[1;34m(e)\u001b[0m\n",
      "\u001b[1;31mAnalysisException\u001b[0m: path file:/C:/Users/brjmr/Desktop/Cursos/PySpark/Analítica de datos con PySpark/dataset.parquet already exists.;"
     ]
    }
   ],
   "source": [
    "# Parquet\n",
    "data.select(['data', 'open', 'close', 'adjusted'])\\\n",
    "    .write.save('dataset.parquet', format='parquet')"
   ]
  },
  {
   "cell_type": "code",
   "execution_count": null,
   "metadata": {},
   "outputs": [],
   "source": []
  }
 ],
 "metadata": {
  "kernelspec": {
   "display_name": "Python 3",
   "language": "python",
   "name": "python3"
  },
  "language_info": {
   "codemirror_mode": {
    "name": "ipython",
    "version": 3
   },
   "file_extension": ".py",
   "mimetype": "text/x-python",
   "name": "python",
   "nbconvert_exporter": "python",
   "pygments_lexer": "ipython3",
   "version": "3.7.4"
  }
 },
 "nbformat": 4,
 "nbformat_minor": 2
}
